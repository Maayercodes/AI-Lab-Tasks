{
 "cells": [
  {
   "cell_type": "code",
   "execution_count": 7,
   "metadata": {},
   "outputs": [
    {
     "name": "stdout",
     "output_type": "stream",
     "text": [
      "A\n",
      "B\n",
      "D\n",
      "E\n",
      "C\n"
     ]
    }
   ],
   "source": [
    "#DFS with Stack & Node\n",
    "class Node:\n",
    "    def __init__(self, value):\n",
    "        self.value = value\n",
    "        self.adjacent = []  \n",
    "    def add_adjacent(self, node):\n",
    "        \"\"\"Add an adjacent node.\"\"\"\n",
    "        self.adjacent.append(node)\n",
    "    def __repr__(self):\n",
    "        return str(self.value)\n",
    "def dfs_with_stack(start_node):\n",
    "    \"\"\"Perform DFS using a stack starting from the given node.\"\"\"\n",
    "    visited = set()  \n",
    "    stack = [start_node] \n",
    "    while stack:\n",
    "        current_node = stack.pop() \n",
    "        if current_node not in visited:\n",
    "            print(current_node.value) \n",
    "            visited.add(current_node)\n",
    "            for neighbor in reversed(current_node.adjacent):\n",
    "                if neighbor not in visited:\n",
    "                    stack.append(neighbor)\n",
    "\n",
    "if __name__ == \"__main__\":\n",
    "    node_A = Node('A')\n",
    "    node_B = Node('B')\n",
    "    node_C = Node('C')\n",
    "    node_D = Node('D')\n",
    "    node_E = Node('E')\n",
    "\n",
    "    node_A.add_adjacent(node_B)\n",
    "    node_A.add_adjacent(node_C)\n",
    "    node_B.add_adjacent(node_D)\n",
    "    node_B.add_adjacent(node_E)\n",
    "    node_C.add_adjacent(node_D)\n",
    "    node_D.add_adjacent(node_E)\n",
    "\n",
    "    dfs_with_stack(node_A)\n"
   ]
  },
  {
   "cell_type": "code",
   "execution_count": 8,
   "metadata": {},
   "outputs": [
    {
     "name": "stdout",
     "output_type": "stream",
     "text": [
      "Preorder Traversal:\n",
      "1 2 4 5 3 6 7 \n",
      "Inorder Traversal:\n",
      "4 2 5 1 6 3 7 \n",
      "Postorder Traversal:\n",
      "4 5 2 6 7 3 1 "
     ]
    }
   ],
   "source": [
    "#Research about \"Inorder, Preorder, Postorder\" and implement in DFS\n",
    "class Node:\n",
    "    def __init__(self, value):\n",
    "        self.value = value\n",
    "        self.left = None  \n",
    "        self.right = None  \n",
    "def preorder(node):\n",
    "    if node:\n",
    "        print(node.value, end=' ')  \n",
    "        preorder(node.left)       \n",
    "        preorder(node.right)        \n",
    "def inorder(node):\n",
    "    if node:\n",
    "        inorder(node.left)         \n",
    "        print(node.value, end=' ')  \n",
    "        inorder(node.right)\n",
    "def postorder(node):\n",
    "    if node:\n",
    "        postorder(node.left)    \n",
    "        postorder(node.right)       \n",
    "        print(node.value, end=' ') \n",
    "\n",
    "if __name__ == \"__main__\":\n",
    "    root = Node(1)\n",
    "    root.left = Node(2)\n",
    "    root.right = Node(3)\n",
    "    root.left.left = Node(4)\n",
    "    root.left.right = Node(5)\n",
    "    root.right.left = Node(6)\n",
    "    root.right.right = Node(7)\n",
    "\n",
    "    print(\"Preorder Traversal:\")\n",
    "    preorder(root)  \n",
    "    print(\"\\nInorder Traversal:\")\n",
    "    inorder(root) \n",
    "    print(\"\\nPostorder Traversal:\")\n",
    "    postorder(root) \n"
   ]
  }
 ],
 "metadata": {
  "kernelspec": {
   "display_name": "Python 3",
   "language": "python",
   "name": "python3"
  },
  "language_info": {
   "codemirror_mode": {
    "name": "ipython",
    "version": 3
   },
   "file_extension": ".py",
   "mimetype": "text/x-python",
   "name": "python",
   "nbconvert_exporter": "python",
   "pygments_lexer": "ipython3",
   "version": "3.12.2"
  }
 },
 "nbformat": 4,
 "nbformat_minor": 2
}
