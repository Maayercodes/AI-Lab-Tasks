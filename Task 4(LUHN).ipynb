{
 "cells": [
  {
   "cell_type": "code",
   "execution_count": null,
   "metadata": {},
   "outputs": [],
   "source": [
    "def luhn_algorithm(card_number):\n",
    "    card_digits = [int(digit) for digit in str(card_number)]\n",
    "    card_digits.reverse()\n",
    "    total_sum = 0\n",
    "    for i, digit in enumerate(card_digits):\n",
    "        if i % 2 == 1:\n",
    "            doubled_digit = digit * 2\n",
    "            if doubled_digit > 9:\n",
    "                doubled_digit -= 9\n",
    "            total_sum += doubled_digit\n",
    "        else:\n",
    "            total_sum += digit\n",
    "    return total_sum % 10 == 0\n",
    "card_number = 4532015112830366  \n",
    "if luhn_algorithm(card_number):\n",
    "    print(f\"{card_number} is a valid card number.\")\n",
    "else:\n",
    "    print(f\"{card_number} is an invalid card number.\")\n"
   ]
  },
  {
   "cell_type": "code",
   "execution_count": null,
   "metadata": {},
   "outputs": [],
   "source": [
    "#punctuation\n",
    "def remove_punctuations(text):\n",
    "    punctuations = '''!()-[]{};:'\"\\,<>./?@#$%^&*_~'''\n",
    "    result = \"\"\n",
    "    for char in text:\n",
    "        if char not in punctuations:\n",
    "            result += char\n",
    "    return result\n",
    "user_input = \"Hello!!!, how are you?\"\n",
    "print(remove_punctuations(user_input))"
   ]
  },
  {
   "cell_type": "code",
   "execution_count": null,
   "metadata": {},
   "outputs": [],
   "source": []
  }
 ],
 "metadata": {
  "language_info": {
   "name": "python"
  }
 },
 "nbformat": 4,
 "nbformat_minor": 2
}
