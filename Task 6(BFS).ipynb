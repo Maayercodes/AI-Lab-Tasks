{
 "cells": [
  {
   "cell_type": "code",
   "execution_count": 9,
   "metadata": {},
   "outputs": [
    {
     "name": "stdout",
     "output_type": "stream",
     "text": [
      "A B C D E F G "
     ]
    }
   ],
   "source": [
    "#Task 1: BFS without Queue & without Node\n",
    "def bfs_recursive(graph, level, visited):\n",
    "    if not level:\n",
    "        return  \n",
    "    next_level = []  \n",
    "    for node in level:\n",
    "        if node not in visited:\n",
    "            print(node, end=' ') \n",
    "            visited.add(node)\n",
    "            for neighbor in graph[node]:\n",
    "                if neighbor not in visited:\n",
    "                    next_level.append(neighbor)\n",
    "    bfs_recursive(graph, next_level, visited)\n",
    "if __name__ == \"__main__\":\n",
    "    graph = {\n",
    "        'A': ['B', 'C'],\n",
    "        'B': ['D', 'E'],\n",
    "        'C': ['F', 'G'],\n",
    "        'D': [],\n",
    "        'E': [],\n",
    "        'F': [],\n",
    "        'G': []\n",
    "    }\n",
    "    start_node = 'A'\n",
    "    bfs_recursive(graph, [start_node], set()) \n"
   ]
  },
  {
   "cell_type": "code",
   "execution_count": 10,
   "metadata": {},
   "outputs": [
    {
     "name": "stdout",
     "output_type": "stream",
     "text": [
      "BFS with Node&Queue:\n",
      "A B C D E F G "
     ]
    }
   ],
   "source": [
    "#Task 2: BFS with Queue & Node\n",
    "from collections import deque\n",
    "class Node:\n",
    "    def __init__(self, value):\n",
    "        self.value = value\n",
    "        self.adjacent = [] \n",
    "    def add_adjacent(self, node):\n",
    "        \"\"\"Add an adjacent node to this node.\"\"\"\n",
    "        self.adjacent.append(node)\n",
    "    def __repr__(self):\n",
    "        return str(self.value)\n",
    "def bfs_with_queue(start_node):\n",
    "    \"\"\"Perform BFS using a queue starting from the given node.\"\"\"\n",
    "    visited = set()\n",
    "    queue = deque([start_node])\n",
    "    while queue:\n",
    "        current_node = queue.popleft()\n",
    "        if current_node not in visited:\n",
    "            print(current_node.value, end=' ')\n",
    "            visited.add(current_node)\n",
    "            for neighbor in current_node.adjacent:\n",
    "                if neighbor not in visited:\n",
    "                    queue.append(neighbor)\n",
    "if __name__ == \"__main__\":\n",
    "    node_A = Node('A')\n",
    "    node_B = Node('B')\n",
    "    node_C = Node('C')\n",
    "    node_D = Node('D')\n",
    "    node_E = Node('E')\n",
    "    node_F = Node('F')\n",
    "    node_G = Node('G')\n",
    "\n",
    "    node_A.add_adjacent(node_B)\n",
    "    node_A.add_adjacent(node_C)\n",
    "    node_B.add_adjacent(node_D)\n",
    "    node_B.add_adjacent(node_E)\n",
    "    node_C.add_adjacent(node_F)\n",
    "    node_C.add_adjacent(node_G)\n",
    "\n",
    "    print(\"BFS with Node&Queue:\")\n",
    "    bfs_with_queue(node_A)  \n"
   ]
  }
 ],
 "metadata": {
  "kernelspec": {
   "display_name": "Python 3",
   "language": "python",
   "name": "python3"
  },
  "language_info": {
   "codemirror_mode": {
    "name": "ipython",
    "version": 3
   },
   "file_extension": ".py",
   "mimetype": "text/x-python",
   "name": "python",
   "nbconvert_exporter": "python",
   "pygments_lexer": "ipython3",
   "version": "3.12.2"
  }
 },
 "nbformat": 4,
 "nbformat_minor": 2
}
